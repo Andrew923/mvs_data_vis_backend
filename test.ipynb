{
 "cells": [
  {
   "cell_type": "code",
   "execution_count": 3,
   "metadata": {},
   "outputs": [],
   "source": [
    "import os, base64\n",
    "\n",
    "directory=\"images\"\n",
    "index=\"000000\"\n",
    "\n",
    "image_data = []\n",
    "for folder in os.listdir(directory):\n",
    "    if not folder.startswith(\"cam\"): continue\n",
    "    for filename in os.listdir(f\"{directory}/{folder}\"):\n",
    "        if filename.startswith(index) and \"Distance\" not in filename:\n",
    "            with open(f\"{directory}/{folder}/{filename}\", 'rb') as f:\n",
    "                image_data.append(base64.b64encode(f.read()).decode('utf-8'))"
   ]
  },
  {
   "cell_type": "code",
   "execution_count": null,
   "metadata": {},
   "outputs": [],
   "source": [
    "from dsta_mvs.dsta_mvs.mvs_utils.metadata_reader import MetadataReader\n",
    "\n",
    "directory=\"images\"\n",
    "metadata = MetadataReader(directory)\n",
    "metadata.read_metadata_and_initialize_dirs(f\"{directory}/metadata.json\", f\"{directory}/frame_graph.json\")\n",
    "print(metadata.frame_graph)"
   ]
  },
  {
   "cell_type": "code",
   "execution_count": null,
   "metadata": {},
   "outputs": [],
   "source": [
    "import json\n",
    "import torch\n",
    "from dsta_mvs.dsta_mvs.mvs_utils.camera_models import ShapeStruct, LinearSphere\n",
    "\n",
    "f = open('images/manifest.json')\n",
    "manifest = json.load(f)\n",
    "f.close()\n",
    "\n",
    "print(manifest['camera_models']['cam_model_0'])\n",
    "linear_model = LinearSphere(fov_degree=195, shape_struct=ShapeStruct(1000, 1000))\n",
    "coord_batch = torch.rand((1, 2, 1)).to('cuda')\n",
    "\n",
    "# Get rays for these coordinates.\n",
    "rays, _ = linear_model.pixel_2_ray(coord_batch)\n",
    "print(rays)\n",
    "\n",
    "# Project the rays.\n",
    "pix, _ = linear_model.point_3d_2_pixel(rays)\n",
    "print(pix)"
   ]
  },
  {
   "cell_type": "code",
   "execution_count": null,
   "metadata": {},
   "outputs": [],
   "source": [
    "import os\n",
    "import sys\n",
    "\n",
    "# The path of the current Python script.\n",
    "_CURRENT_PATH = os.path.dirname(os.path.realpath(__file__))\n",
    "_TOP_PATH     = os.path.join(_CURRENT_PATH, 'dsta_mvs')\n",
    "\n",
    "if _TOP_PATH not in sys.path:\n",
    "    sys.path.insert( 0, _TOP_PATH)\n",
    "    for i, p in enumerate(sys.path):\n",
    "        print(f'{i}: {p}')\n",
    "\n",
    "from api.dataset_player import DatasetProxy\n",
    "import torch\n",
    "\n",
    "dataset_player = DatasetProxy(\"./config.py\", \"./images\")\n",
    "\n",
    "transformations = dict()\n",
    "camera_frame = dataset_player.dataset.map_camera_frame\n",
    "print(camera_frame)\n",
    "cameras = [v for k, v in camera_frame.items() if 'cam' in k]\n",
    "for i in range(len(cameras)):\n",
    "    for j in range(len(cameras)):\n",
    "        if i != j:\n",
    "            transformations[(cameras[i], cameras[j])] = dataset_player.dataset.frame_graph.query_transform(f0=cameras[i], f1=cameras[j])\n",
    "# print(transformations)\n",
    "camera_models = dict([(k, v.__dict__) for k, v in dataset_player.dataset.map_camera_model_raw.items()]) #raw or not raw\n",
    "print(camera_models)\n"
   ]
  }
 ],
 "metadata": {
  "kernelspec": {
   "display_name": "Python 3",
   "language": "python",
   "name": "python3"
  },
  "language_info": {
   "codemirror_mode": {
    "name": "ipython",
    "version": 3
   },
   "file_extension": ".py",
   "mimetype": "text/x-python",
   "name": "python",
   "nbconvert_exporter": "python",
   "pygments_lexer": "ipython3",
   "version": "3.10.6"
  },
  "orig_nbformat": 4
 },
 "nbformat": 4,
 "nbformat_minor": 2
}
