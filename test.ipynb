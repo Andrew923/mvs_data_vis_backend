{
 "cells": [
  {
   "cell_type": "code",
   "execution_count": null,
   "metadata": {},
   "outputs": [],
   "source": [
    "import os\n",
    "import sys\n",
    "\n",
    "# The path of the current Python script.\n",
    "_CURRENT_PATH = os.path.dirname(os.path.realpath(__file__))\n",
    "_TOP_PATH     = os.path.join(_CURRENT_PATH, 'dsta_mvs')\n",
    "\n",
    "if _TOP_PATH not in sys.path:\n",
    "    sys.path.insert( 0, _TOP_PATH)\n",
    "    for i, p in enumerate(sys.path):\n",
    "        print(f'{i}: {p}')\n",
    "\n",
    "from api.dataset_player import DatasetProxy\n",
    "\n",
    "dataset_player = DatasetProxy(\"./config.py\", \"./images\")\n",
    "\n",
    "print(dataset_player.dataset.frame_graph.g.nodes)\n",
    "camera_frame = dataset_player.dataset.map_camera_frame\n",
    "cameras = {k: v for k, v in camera_frame.items() if 'cam' in k}\n",
    "print(cameras)\n",
    "transformations = dict()\n",
    "for i in cameras.keys():\n",
    "    for j in cameras.keys():\n",
    "        if i != j:\n",
    "            matrix = dataset_player.dataset.frame_graph.query_transform(f0=cameras[i], f1=cameras[j])\n",
    "            transformations[f\"{i}-{j}\"] = matrix.tolist()"
   ]
  },
  {
   "cell_type": "code",
   "execution_count": null,
   "metadata": {},
   "outputs": [],
   "source": [
    "import requests\n",
    "response = requests.request(\"GET\", \"http://127.0.0.1:9233/transformations\")\n",
    "D = response.json()['transformations']\n",
    "D"
   ]
  }
 ],
 "metadata": {
  "kernelspec": {
   "display_name": "Python 3",
   "language": "python",
   "name": "python3"
  },
  "language_info": {
   "codemirror_mode": {
    "name": "ipython",
    "version": 3
   },
   "file_extension": ".py",
   "mimetype": "text/x-python",
   "name": "python",
   "nbconvert_exporter": "python",
   "pygments_lexer": "ipython3",
   "version": "3.10.6"
  },
  "orig_nbformat": 4
 },
 "nbformat": 4,
 "nbformat_minor": 2
}
