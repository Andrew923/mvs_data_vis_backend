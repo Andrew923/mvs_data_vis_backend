{
 "cells": [
  {
   "cell_type": "code",
   "execution_count": 3,
   "metadata": {},
   "outputs": [],
   "source": [
    "import os, base64\n",
    "\n",
    "directory=\"images\"\n",
    "index=\"000000\"\n",
    "\n",
    "image_data = []\n",
    "for folder in os.listdir(directory):\n",
    "    if not folder.startswith(\"cam\"): continue\n",
    "    for filename in os.listdir(f\"{directory}/{folder}\"):\n",
    "        if filename.startswith(index) and \"Distance\" not in filename:\n",
    "            with open(f\"{directory}/{folder}/{filename}\", 'rb') as f:\n",
    "                image_data.append(base64.b64encode(f.read()).decode('utf-8'))"
   ]
  },
  {
   "cell_type": "code",
   "execution_count": 5,
   "metadata": {},
   "outputs": [
    {
     "ename": "ModuleNotFoundError",
     "evalue": "No module named 'dsta_mvs.dsta_mvs.mvs_utils.shape_struct'",
     "output_type": "error",
     "traceback": [
      "\u001b[1;31m---------------------------------------------------------------------------\u001b[0m",
      "\u001b[1;31mModuleNotFoundError\u001b[0m                       Traceback (most recent call last)",
      "\u001b[1;32mc:\\Users\\Andrew Yu\\Downloads\\AirLab Epson IMU\\mvs\\mvs_data_vis_backend\\test.ipynb Cell 2\u001b[0m in \u001b[0;36m<cell line: 2>\u001b[1;34m()\u001b[0m\n\u001b[0;32m      <a href='vscode-notebook-cell:/c%3A/Users/Andrew%20Yu/Downloads/AirLab%20Epson%20IMU/mvs/mvs_data_vis_backend/test.ipynb#W1sZmlsZQ%3D%3D?line=0'>1</a>\u001b[0m \u001b[39mimport\u001b[39;00m \u001b[39mos\u001b[39;00m\n\u001b[1;32m----> <a href='vscode-notebook-cell:/c%3A/Users/Andrew%20Yu/Downloads/AirLab%20Epson%20IMU/mvs/mvs_data_vis_backend/test.ipynb#W1sZmlsZQ%3D%3D?line=1'>2</a>\u001b[0m \u001b[39mfrom\u001b[39;00m \u001b[39mdsta_mvs\u001b[39;00m\u001b[39m.\u001b[39;00m\u001b[39mdsta_mvs\u001b[39;00m\u001b[39m.\u001b[39;00m\u001b[39msupport\u001b[39;00m\u001b[39m.\u001b[39;00m\u001b[39mmetadata_reader\u001b[39;00m \u001b[39mimport\u001b[39;00m MetadataReader\n\u001b[0;32m      <a href='vscode-notebook-cell:/c%3A/Users/Andrew%20Yu/Downloads/AirLab%20Epson%20IMU/mvs/mvs_data_vis_backend/test.ipynb#W1sZmlsZQ%3D%3D?line=3'>4</a>\u001b[0m directory\u001b[39m=\u001b[39m\u001b[39m\"\u001b[39m\u001b[39mimages\u001b[39m\u001b[39m\"\u001b[39m\n\u001b[0;32m      <a href='vscode-notebook-cell:/c%3A/Users/Andrew%20Yu/Downloads/AirLab%20Epson%20IMU/mvs/mvs_data_vis_backend/test.ipynb#W1sZmlsZQ%3D%3D?line=4'>5</a>\u001b[0m metadata \u001b[39m=\u001b[39m MetadataReader(directory)\n",
      "File \u001b[1;32mc:\\Users\\Andrew Yu\\Downloads\\AirLab Epson IMU\\mvs\\mvs_data_vis_backend\\dsta_mvs\\dsta_mvs\\support\\__init__.py:4\u001b[0m, in \u001b[0;36m<module>\u001b[1;34m\u001b[0m\n\u001b[0;32m      2\u001b[0m \u001b[39mfrom\u001b[39;00m \u001b[39m.\u001b[39;00m \u001b[39mimport\u001b[39;00m register\n\u001b[1;32m----> 4\u001b[0m \u001b[39mfrom\u001b[39;00m \u001b[39m.\u001b[39;00m \u001b[39mimport\u001b[39;00m dataset\n",
      "File \u001b[1;32mc:\\Users\\Andrew Yu\\Downloads\\AirLab Epson IMU\\mvs\\mvs_data_vis_backend\\dsta_mvs\\dsta_mvs\\support\\dataset\\__init__.py:12\u001b[0m, in \u001b[0;36m<module>\u001b[1;34m\u001b[0m\n\u001b[0;32m      8\u001b[0m     \u001b[39mfrom\u001b[39;00m \u001b[39m.\u001b[39;00m \u001b[39mimport\u001b[39;00m depth_2_distance\n\u001b[0;32m     10\u001b[0m \u001b[39mfrom\u001b[39;00m \u001b[39m.\u001b[39;00m \u001b[39mimport\u001b[39;00m dist_label_table\n\u001b[1;32m---> 12\u001b[0m \u001b[39mfrom\u001b[39;00m \u001b[39m.\u001b[39;00m \u001b[39mimport\u001b[39;00m grid_maker_from_manifest\n\u001b[0;32m     14\u001b[0m \u001b[39mfrom\u001b[39;00m \u001b[39m.\u001b[39;00m \u001b[39mimport\u001b[39;00m multi_view_fisheye_dataset\n\u001b[0;32m     15\u001b[0m \u001b[39mfrom\u001b[39;00m \u001b[39m.\u001b[39;00m \u001b[39mimport\u001b[39;00m equirect_fisheye_dataset\n",
      "File \u001b[1;32mc:\\Users\\Andrew Yu\\Downloads\\AirLab Epson IMU\\mvs\\mvs_data_vis_backend\\dsta_mvs\\dsta_mvs\\support\\dataset\\grid_maker_from_manifest.py:11\u001b[0m, in \u001b[0;36m<module>\u001b[1;34m\u001b[0m\n\u001b[0;32m      4\u001b[0m \u001b[39mimport\u001b[39;00m \u001b[39mnumpy\u001b[39;00m \u001b[39mas\u001b[39;00m \u001b[39mnp\u001b[39;00m\n\u001b[0;32m      6\u001b[0m \u001b[39m# PyTorch and torchvision.\u001b[39;00m\n\u001b[0;32m      7\u001b[0m \u001b[39m# import torch\u001b[39;00m\n\u001b[0;32m      8\u001b[0m \u001b[39m# import torch.nn.functional as F\u001b[39;00m\n\u001b[0;32m      9\u001b[0m \n\u001b[0;32m     10\u001b[0m \u001b[39m# Local.\u001b[39;00m\n\u001b[1;32m---> 11\u001b[0m \u001b[39mfrom\u001b[39;00m \u001b[39m.\u001b[39;00m\u001b[39m.\u001b[39;00m\u001b[39m.\u001b[39;00m\u001b[39mmvs_utils\u001b[39;00m\u001b[39m.\u001b[39;00m\u001b[39mshape_struct\u001b[39;00m \u001b[39mimport\u001b[39;00m ShapeStruct\n\u001b[0;32m     12\u001b[0m \u001b[39mfrom\u001b[39;00m \u001b[39m.\u001b[39;00m\u001b[39m.\u001b[39;00m\u001b[39m.\u001b[39;00m\u001b[39mmvs_utils\u001b[39;00m\u001b[39m.\u001b[39;00m\u001b[39mcamera_models\u001b[39;00m \u001b[39mimport\u001b[39;00m ( CAMERA_MODELS, Equirectangular )\n\u001b[0;32m     13\u001b[0m \u001b[39mfrom\u001b[39;00m \u001b[39m.\u001b[39;00m\u001b[39m.\u001b[39;00m\u001b[39m.\u001b[39;00m\u001b[39mmvs_utils\u001b[39;00m\u001b[39m.\u001b[39;00m\u001b[39mcamera_models\u001b[39;00m \u001b[39mimport\u001b[39;00m make_object \u001b[39mas\u001b[39;00m make_camera_model\n",
      "\u001b[1;31mModuleNotFoundError\u001b[0m: No module named 'dsta_mvs.dsta_mvs.mvs_utils.shape_struct'"
     ]
    }
   ],
   "source": [
    "import os\n",
    "from dsta_mvs.dsta_mvs.support.metadata_reader import MetadataReader\n",
    "\n",
    "directory=\"images\"\n",
    "metadata = MetadataReader(directory)"
   ]
  },
  {
   "cell_type": "code",
   "execution_count": 5,
   "metadata": {},
   "outputs": [
    {
     "data": {
      "text/plain": [
       "0"
      ]
     },
     "execution_count": 5,
     "metadata": {},
     "output_type": "execute_result"
    }
   ],
   "source": [
    "import torch\n",
    "# torch.cuda.is_available()\n",
    "torch.cuda.device_count()"
   ]
  }
 ],
 "metadata": {
  "kernelspec": {
   "display_name": "Python 3",
   "language": "python",
   "name": "python3"
  },
  "language_info": {
   "codemirror_mode": {
    "name": "ipython",
    "version": 3
   },
   "file_extension": ".py",
   "mimetype": "text/x-python",
   "name": "python",
   "nbconvert_exporter": "python",
   "pygments_lexer": "ipython3",
   "version": "3.10.6"
  },
  "orig_nbformat": 4
 },
 "nbformat": 4,
 "nbformat_minor": 2
}
