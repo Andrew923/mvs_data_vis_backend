{
 "cells": [
  {
   "cell_type": "code",
   "execution_count": 3,
   "metadata": {},
   "outputs": [],
   "source": [
    "import os, base64\n",
    "\n",
    "directory=\"images\"\n",
    "index=\"000000\"\n",
    "\n",
    "image_data = []\n",
    "for folder in os.listdir(directory):\n",
    "    if not folder.startswith(\"cam\"): continue\n",
    "    for filename in os.listdir(f\"{directory}/{folder}\"):\n",
    "        if filename.startswith(index) and \"Distance\" not in filename:\n",
    "            with open(f\"{directory}/{folder}/{filename}\", 'rb') as f:\n",
    "                image_data.append(base64.b64encode(f.read()).decode('utf-8'))"
   ]
  },
  {
   "cell_type": "code",
   "execution_count": 8,
   "metadata": {},
   "outputs": [
    {
     "name": "stdout",
     "output_type": "stream",
     "text": [
      "images\n"
     ]
    }
   ],
   "source": [
    "for folder in os.listdir(os.getcwd()):\n",
    "    if os.path.isdir(folder) and folder != '.git': print(folder)"
   ]
  }
 ],
 "metadata": {
  "kernelspec": {
   "display_name": "Python 3",
   "language": "python",
   "name": "python3"
  },
  "language_info": {
   "codemirror_mode": {
    "name": "ipython",
    "version": 3
   },
   "file_extension": ".py",
   "mimetype": "text/x-python",
   "name": "python",
   "nbconvert_exporter": "python",
   "pygments_lexer": "ipython3",
   "version": "3.10.6"
  },
  "orig_nbformat": 4
 },
 "nbformat": 4,
 "nbformat_minor": 2
}
