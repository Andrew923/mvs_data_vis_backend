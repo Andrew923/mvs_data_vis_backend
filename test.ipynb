{
 "cells": [
  {
   "cell_type": "code",
   "execution_count": 3,
   "metadata": {},
   "outputs": [],
   "source": [
    "import os, base64\n",
    "\n",
    "directory=\"images\"\n",
    "index=\"000000\"\n",
    "\n",
    "image_data = []\n",
    "for folder in os.listdir(directory):\n",
    "    if not folder.startswith(\"cam\"): continue\n",
    "    for filename in os.listdir(f\"{directory}/{folder}\"):\n",
    "        if filename.startswith(index) and \"Distance\" not in filename:\n",
    "            with open(f\"{directory}/{folder}/{filename}\", 'rb') as f:\n",
    "                image_data.append(base64.b64encode(f.read()).decode('utf-8'))"
   ]
  },
  {
   "cell_type": "code",
   "execution_count": null,
   "metadata": {},
   "outputs": [],
   "source": [
    "import json\n",
    "import torch\n",
    "from dsta_mvs.dsta_mvs.mvs_utils.camera_models import ShapeStruct, LinearSphere\n",
    "\n",
    "f = open('images/manifest.json')\n",
    "manifest = json.load(f)\n",
    "f.close()\n",
    "\n",
    "print(manifest['camera_models']['cam_model_0'])\n",
    "linear_model = LinearSphere(fov_degree=195, shape_struct=ShapeStruct(1000, 1000))\n",
    "coord_batch = torch.rand((1, 2, 1)).to('cuda')\n",
    "\n",
    "# Get rays for these coordinates.\n",
    "rays, _ = linear_model.pixel_2_ray(coord_batch)\n",
    "print(rays)\n",
    "\n",
    "# Project the rays.\n",
    "pix, _ = linear_model.point_3d_2_pixel(rays)\n",
    "print(pix)"
   ]
  },
  {
   "cell_type": "code",
   "execution_count": 36,
   "metadata": {},
   "outputs": [
    {
     "data": {
      "text/plain": [
       "['/home/andrew/mvs_data_vis_backend/dsta_mvs/api/..',\n",
       " '/home/andrew/mvs_data_vis_backend/dsta_mvs',\n",
       " '/usr/lib/python38.zip',\n",
       " '/usr/lib/python3.8',\n",
       " '/usr/lib/python3.8/lib-dynload',\n",
       " '',\n",
       " '/home/andrew/.local/lib/python3.8/site-packages',\n",
       " '/usr/local/lib/python3.8/dist-packages',\n",
       " '/usr/lib/python3/dist-packages']"
      ]
     },
     "execution_count": 36,
     "metadata": {},
     "output_type": "execute_result"
    }
   ],
   "source": [
    "from api.dataset_player"
   ]
  },
  {
   "cell_type": "code",
   "execution_count": null,
   "metadata": {},
   "outputs": [],
   "source": [
    "import os\n",
    "import sys\n",
    "\n",
    "# The path of the current Python script.\n",
    "_CURRENT_PATH = os.path.dirname(os.path.realpath(__file__))\n",
    "_TOP_PATH     = os.path.join(_CURRENT_PATH, 'dsta_mvs')\n",
    "\n",
    "if _TOP_PATH not in sys.path:\n",
    "    sys.path.insert( 0, _TOP_PATH)\n",
    "    for i, p in enumerate(sys.path):\n",
    "        print(f'{i}: {p}')\n",
    "\n",
    "from api.dataset_player import DatasetProxy\n",
    "\n",
    "dataset_player = DatasetProxy(\"./conf.py\", \"./images\")\n",
    "\n",
    "transformations = dict()\n",
    "camera_frame = dataset_player.dataset.map_camera_frame\n",
    "# print(camera_frame)\n",
    "cameras = [v for k, v in camera_frame.items() if 'cam' in k]\n",
    "for i in range(len(cameras)):\n",
    "    for j in range(len(cameras)):\n",
    "        if i != j:\n",
    "            transformations[(cameras[i], cameras[j])] = dataset_player.dataset.frame_graph.query_transform(f0=cameras[i], f1=cameras[j])\n",
    "# print(transformations)\n",
    "camera_models = dict([(k, v.__dict__) for k, v in dataset_player.dataset.map_camera_model_raw.items()]) #raw or not raw\n",
    "# print(camera_models)\n",
    "\n",
    "for i in range(len(dataset_player.dataset)):\n",
    "    print(dataset_player.dataset[i])"
   ]
  },
  {
   "cell_type": "code",
   "execution_count": 37,
   "metadata": {},
   "outputs": [],
   "source": [
    "D = {'cam0_rgb_fisheye': ['CoalMineExposure/Pose_000/cam0/000000_Fisheye.png', 'CoalMineExposure/Pose_000/cam0/000001_Fisheye.png', 'CoalMineExposure/Pose_000/cam0/000002_Fisheye.png', 'CoalMineExposure/Pose_000/cam0/000003_Fisheye.png', 'CoalMineExposure/Pose_001/cam0/000000_Fisheye.png', 'CoalMineExposure/Pose_001/cam0/000001_Fisheye.png', 'CoalMineExposure/Pose_001/cam0/000002_Fisheye.png', 'CoalMineExposure/Pose_001/cam0/000003_Fisheye.png', 'DesertGasStation/Pose_000/cam0/000000_Fisheye.png', 'DesertGasStation/Pose_000/cam0/000001_Fisheye.png', 'DesertGasStation/Pose_000/cam0/000002_Fisheye.png', 'DesertGasStation/Pose_000/cam0/000003_Fisheye.png', 'DesertGasStation/Pose_000/cam0/000004_Fisheye.png', 'DesertGasStation/Pose_000/cam0/000005_Fisheye.png', 'DesertGasStation/Pose_001/cam0/000000_Fisheye.png', 'DesertGasStation/Pose_001/cam0/000001_Fisheye.png', 'DesertGasStation/Pose_001/cam0/000002_Fisheye.png', 'DesertGasStation/Pose_001/cam0/000003_Fisheye.png', 'DesertGasStation/Pose_001/cam0/000004_Fisheye.png'], 'cam0_dist_fisheye': ['CoalMineExposure/Pose_000/cam0/000000_FisheyeDistance.png', 'CoalMineExposure/Pose_000/cam0/000001_FisheyeDistance.png', 'CoalMineExposure/Pose_000/cam0/000002_FisheyeDistance.png', 'CoalMineExposure/Pose_000/cam0/000003_FisheyeDistance.png', 'CoalMineExposure/Pose_001/cam0/000000_FisheyeDistance.png', 'CoalMineExposure/Pose_001/cam0/000001_FisheyeDistance.png', 'CoalMineExposure/Pose_001/cam0/000002_FisheyeDistance.png', 'CoalMineExposure/Pose_001/cam0/000003_FisheyeDistance.png', 'DesertGasStation/Pose_000/cam0/000000_FisheyeDistance.png', 'DesertGasStation/Pose_000/cam0/000001_FisheyeDistance.png', 'DesertGasStation/Pose_000/cam0/000002_FisheyeDistance.png', 'DesertGasStation/Pose_000/cam0/000003_FisheyeDistance.png', 'DesertGasStation/Pose_000/cam0/000004_FisheyeDistance.png', 'DesertGasStation/Pose_000/cam0/000005_FisheyeDistance.png', 'DesertGasStation/Pose_001/cam0/000000_FisheyeDistance.png', 'DesertGasStation/Pose_001/cam0/000001_FisheyeDistance.png', 'DesertGasStation/Pose_001/cam0/000002_FisheyeDistance.png', 'DesertGasStation/Pose_001/cam0/000003_FisheyeDistance.png', 'DesertGasStation/Pose_001/cam0/000004_FisheyeDistance.png'], 'cam1_rgb_fisheye': ['CoalMineExposure/Pose_000/cam1/000000_Fisheye.png', 'CoalMineExposure/Pose_000/cam1/000001_Fisheye.png', 'CoalMineExposure/Pose_000/cam1/000002_Fisheye.png', 'CoalMineExposure/Pose_000/cam1/000003_Fisheye.png', 'CoalMineExposure/Pose_001/cam1/000000_Fisheye.png', 'CoalMineExposure/Pose_001/cam1/000001_Fisheye.png', 'CoalMineExposure/Pose_001/cam1/000002_Fisheye.png', 'CoalMineExposure/Pose_001/cam1/000003_Fisheye.png', 'DesertGasStation/Pose_000/cam1/000000_Fisheye.png', 'DesertGasStation/Pose_000/cam1/000001_Fisheye.png', 'DesertGasStation/Pose_000/cam1/000002_Fisheye.png', 'DesertGasStation/Pose_000/cam1/000003_Fisheye.png', 'DesertGasStation/Pose_000/cam1/000004_Fisheye.png', 'DesertGasStation/Pose_000/cam1/000005_Fisheye.png', 'DesertGasStation/Pose_001/cam1/000000_Fisheye.png', 'DesertGasStation/Pose_001/cam1/000001_Fisheye.png', 'DesertGasStation/Pose_001/cam1/000002_Fisheye.png', 'DesertGasStation/Pose_001/cam1/000003_Fisheye.png', 'DesertGasStation/Pose_001/cam1/000004_Fisheye.png'], 'cam1_dist_fisheye': ['CoalMineExposure/Pose_000/cam1/000000_FisheyeDistance.png', 'CoalMineExposure/Pose_000/cam1/000001_FisheyeDistance.png', 'CoalMineExposure/Pose_000/cam1/000002_FisheyeDistance.png', 'CoalMineExposure/Pose_000/cam1/000003_FisheyeDistance.png', 'CoalMineExposure/Pose_001/cam1/000000_FisheyeDistance.png', 'CoalMineExposure/Pose_001/cam1/000001_FisheyeDistance.png', 'CoalMineExposure/Pose_001/cam1/000002_FisheyeDistance.png', 'CoalMineExposure/Pose_001/cam1/000003_FisheyeDistance.png', 'DesertGasStation/Pose_000/cam1/000000_FisheyeDistance.png', 'DesertGasStation/Pose_000/cam1/000001_FisheyeDistance.png', 'DesertGasStation/Pose_000/cam1/000002_FisheyeDistance.png', 'DesertGasStation/Pose_000/cam1/000003_FisheyeDistance.png', 'DesertGasStation/Pose_000/cam1/000004_FisheyeDistance.png', 'DesertGasStation/Pose_000/cam1/000005_FisheyeDistance.png', 'DesertGasStation/Pose_001/cam1/000000_FisheyeDistance.png', 'DesertGasStation/Pose_001/cam1/000001_FisheyeDistance.png', 'DesertGasStation/Pose_001/cam1/000002_FisheyeDistance.png', 'DesertGasStation/Pose_001/cam1/000003_FisheyeDistance.png', 'DesertGasStation/Pose_001/cam1/000004_FisheyeDistance.png'], 'cam2_rgb_fisheye': ['CoalMineExposure/Pose_000/cam2/000000_Fisheye.png', 'CoalMineExposure/Pose_000/cam2/000001_Fisheye.png', 'CoalMineExposure/Pose_000/cam2/000002_Fisheye.png', 'CoalMineExposure/Pose_000/cam2/000003_Fisheye.png', 'CoalMineExposure/Pose_001/cam2/000000_Fisheye.png', 'CoalMineExposure/Pose_001/cam2/000001_Fisheye.png', 'CoalMineExposure/Pose_001/cam2/000002_Fisheye.png', 'CoalMineExposure/Pose_001/cam2/000003_Fisheye.png', 'DesertGasStation/Pose_000/cam2/000000_Fisheye.png', 'DesertGasStation/Pose_000/cam2/000001_Fisheye.png', 'DesertGasStation/Pose_000/cam2/000002_Fisheye.png', 'DesertGasStation/Pose_000/cam2/000003_Fisheye.png', 'DesertGasStation/Pose_000/cam2/000004_Fisheye.png', 'DesertGasStation/Pose_000/cam2/000005_Fisheye.png', 'DesertGasStation/Pose_001/cam2/000000_Fisheye.png', 'DesertGasStation/Pose_001/cam2/000001_Fisheye.png', 'DesertGasStation/Pose_001/cam2/000002_Fisheye.png', 'DesertGasStation/Pose_001/cam2/000003_Fisheye.png', 'DesertGasStation/Pose_001/cam2/000004_Fisheye.png'], 'cam2_dist_fisheye': ['CoalMineExposure/Pose_000/cam2/000000_FisheyeDistance.png', 'CoalMineExposure/Pose_000/cam2/000001_FisheyeDistance.png', 'CoalMineExposure/Pose_000/cam2/000002_FisheyeDistance.png', 'CoalMineExposure/Pose_000/cam2/000003_FisheyeDistance.png', 'CoalMineExposure/Pose_001/cam2/000000_FisheyeDistance.png', 'CoalMineExposure/Pose_001/cam2/000001_FisheyeDistance.png', 'CoalMineExposure/Pose_001/cam2/000002_FisheyeDistance.png', 'CoalMineExposure/Pose_001/cam2/000003_FisheyeDistance.png', 'DesertGasStation/Pose_000/cam2/000000_FisheyeDistance.png', 'DesertGasStation/Pose_000/cam2/000001_FisheyeDistance.png', 'DesertGasStation/Pose_000/cam2/000002_FisheyeDistance.png', 'DesertGasStation/Pose_000/cam2/000003_FisheyeDistance.png', 'DesertGasStation/Pose_000/cam2/000004_FisheyeDistance.png', 'DesertGasStation/Pose_000/cam2/000005_FisheyeDistance.png', 'DesertGasStation/Pose_001/cam2/000000_FisheyeDistance.png', 'DesertGasStation/Pose_001/cam2/000001_FisheyeDistance.png', 'DesertGasStation/Pose_001/cam2/000002_FisheyeDistance.png', 'DesertGasStation/Pose_001/cam2/000003_FisheyeDistance.png', 'DesertGasStation/Pose_001/cam2/000004_FisheyeDistance.png'], 'rig_rgb_pano': ['CoalMineExposure/Pose_000/rig/000000_CubeScene.png', 'CoalMineExposure/Pose_000/rig/000001_CubeScene.png', 'CoalMineExposure/Pose_000/rig/000002_CubeScene.png', 'CoalMineExposure/Pose_000/rig/000003_CubeScene.png', 'CoalMineExposure/Pose_001/rig/000000_CubeScene.png', 'CoalMineExposure/Pose_001/rig/000001_CubeScene.png', 'CoalMineExposure/Pose_001/rig/000002_CubeScene.png', 'CoalMineExposure/Pose_001/rig/000003_CubeScene.png', 'DesertGasStation/Pose_000/rig/000000_CubeScene.png', 'DesertGasStation/Pose_000/rig/000001_CubeScene.png', 'DesertGasStation/Pose_000/rig/000002_CubeScene.png', 'DesertGasStation/Pose_000/rig/000003_CubeScene.png', 'DesertGasStation/Pose_000/rig/000004_CubeScene.png', 'DesertGasStation/Pose_000/rig/000005_CubeScene.png', 'DesertGasStation/Pose_001/rig/000000_CubeScene.png', 'DesertGasStation/Pose_001/rig/000001_CubeScene.png', 'DesertGasStation/Pose_001/rig/000002_CubeScene.png', 'DesertGasStation/Pose_001/rig/000003_CubeScene.png', 'DesertGasStation/Pose_001/rig/000004_CubeScene.png'], 'rig_rgb_fisheye': ['CoalMineExposure/Pose_000/cam0/000000_Fisheye.png', 'CoalMineExposure/Pose_000/cam0/000001_Fisheye.png', 'CoalMineExposure/Pose_000/cam0/000002_Fisheye.png', 'CoalMineExposure/Pose_000/cam0/000003_Fisheye.png', 'CoalMineExposure/Pose_001/cam0/000000_Fisheye.png', 'CoalMineExposure/Pose_001/cam0/000001_Fisheye.png', 'CoalMineExposure/Pose_001/cam0/000002_Fisheye.png', 'CoalMineExposure/Pose_001/cam0/000003_Fisheye.png', 'DesertGasStation/Pose_000/cam0/000000_Fisheye.png', 'DesertGasStation/Pose_000/cam0/000001_Fisheye.png', 'DesertGasStation/Pose_000/cam0/000002_Fisheye.png', 'DesertGasStation/Pose_000/cam0/000003_Fisheye.png', 'DesertGasStation/Pose_000/cam0/000004_Fisheye.png', 'DesertGasStation/Pose_000/cam0/000005_Fisheye.png', 'DesertGasStation/Pose_001/cam0/000000_Fisheye.png', 'DesertGasStation/Pose_001/cam0/000001_Fisheye.png', 'DesertGasStation/Pose_001/cam0/000002_Fisheye.png', 'DesertGasStation/Pose_001/cam0/000003_Fisheye.png', 'DesertGasStation/Pose_001/cam0/000004_Fisheye.png'], 'rig_dist_fisheye': ['CoalMineExposure/Pose_000/cam0/000000_FisheyeDistance.png', 'CoalMineExposure/Pose_000/cam0/000001_FisheyeDistance.png', 'CoalMineExposure/Pose_000/cam0/000002_FisheyeDistance.png', 'CoalMineExposure/Pose_000/cam0/000003_FisheyeDistance.png', 'CoalMineExposure/Pose_001/cam0/000000_FisheyeDistance.png', 'CoalMineExposure/Pose_001/cam0/000001_FisheyeDistance.png', 'CoalMineExposure/Pose_001/cam0/000002_FisheyeDistance.png', 'CoalMineExposure/Pose_001/cam0/000003_FisheyeDistance.png', 'DesertGasStation/Pose_000/cam0/000000_FisheyeDistance.png', 'DesertGasStation/Pose_000/cam0/000001_FisheyeDistance.png', 'DesertGasStation/Pose_000/cam0/000002_FisheyeDistance.png', 'DesertGasStation/Pose_000/cam0/000003_FisheyeDistance.png', 'DesertGasStation/Pose_000/cam0/000004_FisheyeDistance.png', 'DesertGasStation/Pose_000/cam0/000005_FisheyeDistance.png', 'DesertGasStation/Pose_001/cam0/000000_FisheyeDistance.png', 'DesertGasStation/Pose_001/cam0/000001_FisheyeDistance.png', 'DesertGasStation/Pose_001/cam0/000002_FisheyeDistance.png', 'DesertGasStation/Pose_001/cam0/000003_FisheyeDistance.png', 'DesertGasStation/Pose_001/cam0/000004_FisheyeDistance.png']}"
   ]
  },
  {
   "cell_type": "code",
   "execution_count": 38,
   "metadata": {},
   "outputs": [
    {
     "data": {
      "text/plain": [
       "dict_keys(['cam0_rgb_fisheye', 'cam0_dist_fisheye', 'cam1_rgb_fisheye', 'cam1_dist_fisheye', 'cam2_rgb_fisheye', 'cam2_dist_fisheye', 'rig_rgb_pano', 'rig_rgb_fisheye', 'rig_dist_fisheye'])"
      ]
     },
     "execution_count": 38,
     "metadata": {},
     "output_type": "execute_result"
    }
   ],
   "source": [
    "D.keys()"
   ]
  }
 ],
 "metadata": {
  "kernelspec": {
   "display_name": "Python 3",
   "language": "python",
   "name": "python3"
  },
  "language_info": {
   "codemirror_mode": {
    "name": "ipython",
    "version": 3
   },
   "file_extension": ".py",
   "mimetype": "text/x-python",
   "name": "python",
   "nbconvert_exporter": "python",
   "pygments_lexer": "ipython3",
   "version": "3.8.10"
  },
  "orig_nbformat": 4
 },
 "nbformat": 4,
 "nbformat_minor": 2
}
